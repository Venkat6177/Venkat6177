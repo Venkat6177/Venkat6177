{
 "cells": [
  {
   "cell_type": "code",
   "execution_count": null,
   "id": "ea7a4150",
   "metadata": {},
   "outputs": [],
   "source": [
    "#while loop"
   ]
  },
  {
   "cell_type": "code",
   "execution_count": 2,
   "id": "6c9185f6",
   "metadata": {},
   "outputs": [
    {
     "name": "stdout",
     "output_type": "stream",
     "text": [
      "0\t1\t2\t3\t4\tend\n"
     ]
    }
   ],
   "source": [
    "num=0\n",
    "while num<5:\n",
    "    print(num,end='\\t')\n",
    "    num=num+1\n",
    "print('end')"
   ]
  },
  {
   "cell_type": "code",
   "execution_count": 3,
   "id": "dab7096a",
   "metadata": {},
   "outputs": [
    {
     "name": "stdout",
     "output_type": "stream",
     "text": [
      "0\t1\t2\t3\t4\tend of while\n",
      "end of program\n"
     ]
    }
   ],
   "source": [
    "num=0\n",
    "while num<5:\n",
    "    print(num,end='\\t')\n",
    "    num=num+1\n",
    "else:\n",
    "    print('end of while')\n",
    "print('end of program')"
   ]
  },
  {
   "cell_type": "code",
   "execution_count": 4,
   "id": "c4e4c6fd",
   "metadata": {},
   "outputs": [
    {
     "name": "stdout",
     "output_type": "stream",
     "text": [
      "false\n",
      "end\n"
     ]
    }
   ],
   "source": [
    "while 0:\n",
    "    print('hello')\n",
    "else:\n",
    "    print('false')\n",
    "print('end')"
   ]
  },
  {
   "cell_type": "code",
   "execution_count": 5,
   "id": "a7d0705d",
   "metadata": {},
   "outputs": [
    {
     "data": {
      "text/plain": [
       "False"
      ]
     },
     "execution_count": 5,
     "metadata": {},
     "output_type": "execute_result"
    }
   ],
   "source": [
    "i=0\n",
    "bool(i)"
   ]
  },
  {
   "cell_type": "code",
   "execution_count": 6,
   "id": "dbeb1733",
   "metadata": {},
   "outputs": [
    {
     "data": {
      "text/plain": [
       "True"
      ]
     },
     "execution_count": 6,
     "metadata": {},
     "output_type": "execute_result"
    }
   ],
   "source": [
    "t=7975\n",
    "bool(t)"
   ]
  },
  {
   "cell_type": "code",
   "execution_count": 7,
   "id": "69ba8967",
   "metadata": {},
   "outputs": [
    {
     "name": "stdout",
     "output_type": "stream",
     "text": [
      "End of program\n"
     ]
    }
   ],
   "source": [
    "for i in range(10):\n",
    "    break\n",
    "print('End of program')"
   ]
  },
  {
   "cell_type": "code",
   "execution_count": 8,
   "id": "71b05094",
   "metadata": {},
   "outputs": [
    {
     "name": "stdout",
     "output_type": "stream",
     "text": [
      "End of program\n"
     ]
    }
   ],
   "source": [
    "for i in range(10):\n",
    "    continue\n",
    "print('End of program')"
   ]
  },
  {
   "cell_type": "code",
   "execution_count": 9,
   "id": "2c102da0",
   "metadata": {},
   "outputs": [],
   "source": [
    "from time import time"
   ]
  },
  {
   "cell_type": "code",
   "execution_count": 10,
   "id": "08033281",
   "metadata": {},
   "outputs": [
    {
     "name": "stdout",
     "output_type": "stream",
     "text": [
      "Help on built-in function time in module time:\n",
      "\n",
      "time(...)\n",
      "    time() -> floating point number\n",
      "    \n",
      "    Return the current time in seconds since the Epoch.\n",
      "    Fractions of a second may be present if the system clock provides them.\n",
      "\n"
     ]
    }
   ],
   "source": [
    "help(time)"
   ]
  },
  {
   "cell_type": "code",
   "execution_count": 11,
   "id": "99d2ae04",
   "metadata": {},
   "outputs": [
    {
     "data": {
      "text/plain": [
       "1633099083.3742912"
      ]
     },
     "execution_count": 11,
     "metadata": {},
     "output_type": "execute_result"
    }
   ],
   "source": [
    "time()"
   ]
  },
  {
   "cell_type": "code",
   "execution_count": 14,
   "id": "c73ed409",
   "metadata": {},
   "outputs": [
    {
     "name": "stdout",
     "output_type": "stream",
     "text": [
      "End of program\n",
      "time taken=0.0007665157318115234 secs\n"
     ]
    }
   ],
   "source": [
    "start= time()\n",
    "for i in range(10):\n",
    "    break\n",
    "print('End of program')\n",
    "end =time()\n",
    "print('time taken={} secs'.format(end-start))"
   ]
  },
  {
   "cell_type": "code",
   "execution_count": 15,
   "id": "f7188d79",
   "metadata": {},
   "outputs": [
    {
     "name": "stdout",
     "output_type": "stream",
     "text": [
      "End of program\n",
      "time taken=0.0 secs\n"
     ]
    }
   ],
   "source": [
    "start= time()\n",
    "for i in range(10):\n",
    "    continue\n",
    "print('End of program')\n",
    "end =time()\n",
    "print('time taken={} secs'.format(end-start))"
   ]
  },
  {
   "cell_type": "code",
   "execution_count": 23,
   "id": "37929f38",
   "metadata": {},
   "outputs": [
    {
     "name": "stdout",
     "output_type": "stream",
     "text": [
      "I am now 0\n",
      "I am now 1\n",
      "I am now 2\n",
      "I am now 3\n",
      "I am now 4\n",
      "I am now 5\n",
      "reached 5. coming out\n",
      "end of program\n",
      "Time taken=0.002468585968017578 secs\n"
     ]
    }
   ],
   "source": [
    "start= time()\n",
    "for i in range(1000000):\n",
    "    print('I am now {}'.format(i))\n",
    "    if i==5:\n",
    "        print('reached 5. coming out')\n",
    "        break\n",
    "print('end of program')\n",
    "end=time()\n",
    "print('Time taken={} secs'.format(end-start))"
   ]
  },
  {
   "cell_type": "code",
   "execution_count": 26,
   "id": "5f7f78cf",
   "metadata": {},
   "outputs": [
    {
     "name": "stdout",
     "output_type": "stream",
     "text": [
      "I am now 0\n",
      "I am now 1\n",
      "I am now 2\n",
      "I am now 3\n",
      "I am now 4\n",
      "I am now 5\n",
      "reached 5. coming out\n",
      "end of program\n",
      "Time taken=0.0 secs\n"
     ]
    }
   ],
   "source": [
    "start= time()\n",
    "for i in range(1000000):\n",
    "    print('I am now {}'.format(i))\n",
    "    if i==5:\n",
    "        print('reached 5. coming out')\n",
    "        break\n",
    "print('end of program')\n",
    "end=time()\n",
    "print('Time taken={} secs'.format(end-start))"
   ]
  },
  {
   "cell_type": "code",
   "execution_count": 28,
   "id": "c5dce14a",
   "metadata": {},
   "outputs": [
    {
     "name": "stdout",
     "output_type": "stream",
     "text": [
      "I am now 0\n",
      "I am now 1\n",
      "I am now 2\n",
      "I am now 3\n",
      "I am now 4\n",
      "I am now 5\n",
      "reached 5. coming out\n",
      "I am now 6\n",
      "I am now 7\n",
      "I am now 8\n",
      "I am now 9\n",
      "I am now 10\n",
      "I am now 11\n",
      "I am now 12\n",
      "I am now 13\n",
      "I am now 14\n",
      "I am now 15\n",
      "I am now 16\n",
      "I am now 17\n",
      "I am now 18\n",
      "I am now 19\n",
      "end of program\n",
      "Time taken=0.002561807632446289 secs\n"
     ]
    }
   ],
   "source": [
    "start= time()\n",
    "for i in range(20):\n",
    "    print('I am now {}'.format(i))\n",
    "    if i==5:\n",
    "        print('reached 5. coming out')\n",
    "        continue\n",
    "print('end of program')\n",
    "end=time()\n",
    "print('Time taken={} secs'.format(end-start))"
   ]
  },
  {
   "cell_type": "code",
   "execution_count": 29,
   "id": "95fcd271",
   "metadata": {},
   "outputs": [],
   "source": [
    "pass"
   ]
  },
  {
   "cell_type": "code",
   "execution_count": 30,
   "id": "c739351f",
   "metadata": {},
   "outputs": [],
   "source": [
    "for i in range(10):\n",
    "    pass"
   ]
  },
  {
   "cell_type": "code",
   "execution_count": 31,
   "id": "de09dddc",
   "metadata": {},
   "outputs": [
    {
     "ename": "SyntaxError",
     "evalue": "invalid syntax (Temp/ipykernel_12816/2909370481.py, line 1)",
     "output_type": "error",
     "traceback": [
      "\u001b[1;36m  File \u001b[1;32m\"C:\\Users\\VENKAT~1\\AppData\\Local\\Temp/ipykernel_12816/2909370481.py\"\u001b[1;36m, line \u001b[1;32m1\u001b[0m\n\u001b[1;33m    help(pass)\u001b[0m\n\u001b[1;37m         ^\u001b[0m\n\u001b[1;31mSyntaxError\u001b[0m\u001b[1;31m:\u001b[0m invalid syntax\n"
     ]
    }
   ],
   "source": [
    "help(pass)"
   ]
  },
  {
   "cell_type": "code",
   "execution_count": 34,
   "id": "341fba02",
   "metadata": {},
   "outputs": [
    {
     "name": "stdout",
     "output_type": "stream",
     "text": [
      "1\n",
      "2\n",
      "3\n",
      "4\n",
      "end\n"
     ]
    }
   ],
   "source": [
    "i=1\n",
    "while i<5:\n",
    "    print(i)\n",
    "    i+=1\n",
    "    pass\n",
    "print('end')"
   ]
  },
  {
   "cell_type": "code",
   "execution_count": 36,
   "id": "029d2100",
   "metadata": {},
   "outputs": [],
   "source": [
    "def my_func():\n",
    "    pass"
   ]
  },
  {
   "cell_type": "code",
   "execution_count": 37,
   "id": "70da9053",
   "metadata": {},
   "outputs": [
    {
     "data": {
      "text/plain": [
       "<function __main__.my_func()>"
      ]
     },
     "execution_count": 37,
     "metadata": {},
     "output_type": "execute_result"
    }
   ],
   "source": [
    "my_func"
   ]
  },
  {
   "cell_type": "code",
   "execution_count": 38,
   "id": "d202dd0f",
   "metadata": {},
   "outputs": [
    {
     "name": "stdout",
     "output_type": "stream",
     "text": [
      "3\n",
      "4\n"
     ]
    }
   ],
   "source": [
    "for i in range(5):\n",
    "    if i==3:\n",
    "        print(i)\n",
    "        continue\n",
    "print(i)"
   ]
  },
  {
   "cell_type": "code",
   "execution_count": null,
   "id": "96aacdb0",
   "metadata": {},
   "outputs": [],
   "source": []
  }
 ],
 "metadata": {
  "kernelspec": {
   "display_name": "Python 3 (ipykernel)",
   "language": "python",
   "name": "python3"
  },
  "language_info": {
   "codemirror_mode": {
    "name": "ipython",
    "version": 3
   },
   "file_extension": ".py",
   "mimetype": "text/x-python",
   "name": "python",
   "nbconvert_exporter": "python",
   "pygments_lexer": "ipython3",
   "version": "3.9.7"
  }
 },
 "nbformat": 4,
 "nbformat_minor": 5
}
