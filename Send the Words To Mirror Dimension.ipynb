{
 "cells": [
  {
   "cell_type": "code",
   "execution_count": 12,
   "id": "d5649ef0",
   "metadata": {},
   "outputs": [
    {
     "name": "stdout",
     "output_type": "stream",
     "text": [
      "Enter the given word = dre\n",
      "The given mirroe image =  erd\n",
      "******************End of program******************\n"
     ]
    }
   ],
   "source": [
    "s=str(input('Enter the given word = '))\n",
    "reverse = ''\n",
    "for c in s:\n",
    "    reverse = c + reverse\n",
    "print('The given mirroe image = ',reverse) \n",
    "print('End of program'.center(50,'*'))"
   ]
  }
 ],
 "metadata": {
  "kernelspec": {
   "display_name": "Python 3 (ipykernel)",
   "language": "python",
   "name": "python3"
  },
  "language_info": {
   "codemirror_mode": {
    "name": "ipython",
    "version": 3
   },
   "file_extension": ".py",
   "mimetype": "text/x-python",
   "name": "python",
   "nbconvert_exporter": "python",
   "pygments_lexer": "ipython3",
   "version": "3.9.7"
  }
 },
 "nbformat": 4,
 "nbformat_minor": 5
}
