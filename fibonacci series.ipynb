{
 "cells": [
  {
   "cell_type": "code",
   "execution_count": 17,
   "id": "e47f8826",
   "metadata": {
    "scrolled": true
   },
   "outputs": [
    {
     "name": "stdout",
     "output_type": "stream",
     "text": [
      "Enter the terms 44\n",
      "0 1 1 2 3 5 8 13 21 34 \n",
      "\n",
      "******************End of program******************\n"
     ]
    }
   ],
   "source": [
    "a=int(input(\"Enter the terms \"))\n",
    "f=0                                         \n",
    "s=1                                         \n",
    "if a>=0:\n",
    "    print(f,s,end=\" \")\n",
    "    for x in range(2,a):\n",
    "        next=f+s \n",
    "        if next<50:\n",
    "            print(next,end=\" \")\n",
    "            f=s\n",
    "            s=next\n",
    "        else:\n",
    "             break\n",
    "    print('\\n')\n",
    "else:\n",
    "    print('The requested series is',f)\n",
    "    \n",
    "print('End of program'.center(50,'*'))"
   ]
  },
  {
   "cell_type": "code",
   "execution_count": null,
   "id": "6a594546",
   "metadata": {},
   "outputs": [],
   "source": []
  }
 ],
 "metadata": {
  "kernelspec": {
   "display_name": "Python 3 (ipykernel)",
   "language": "python",
   "name": "python3"
  },
  "language_info": {
   "codemirror_mode": {
    "name": "ipython",
    "version": 3
   },
   "file_extension": ".py",
   "mimetype": "text/x-python",
   "name": "python",
   "nbconvert_exporter": "python",
   "pygments_lexer": "ipython3",
   "version": "3.9.7"
  }
 },
 "nbformat": 4,
 "nbformat_minor": 5
}
